{
  "nbformat": 4,
  "nbformat_minor": 0,
  "metadata": {
    "accelerator": "GPU",
    "colab": {
      "name": "Home assignment - Machine Learning.ipynb",
      "provenance": [],
      "collapsed_sections": [],
      "authorship_tag": "ABX9TyMxexoVPzOnFzBABeskYLqQ",
      "include_colab_link": true
    },
    "kernelspec": {
      "display_name": "Python 3",
      "name": "python3"
    },
    "language_info": {
      "name": "python"
    }
  },
  "cells": [
    {
      "cell_type": "markdown",
      "metadata": {
        "id": "view-in-github",
        "colab_type": "text"
      },
      "source": [
        "<a href=\"https://colab.research.google.com/github/tszabad/IBS_deeplearning_assignment/blob/main/Home_assignment_Machine_Learning.ipynb\" target=\"_parent\"><img src=\"https://colab.research.google.com/assets/colab-badge.svg\" alt=\"Open In Colab\"/></a>"
      ]
    },
    {
      "cell_type": "markdown",
      "metadata": {
        "id": "fG23CRPvF7X2"
      },
      "source": [
        "# Home assignment - Machine Learning (ITLB356, MIB)\n",
        "## Tamás Szabados\n",
        "Getting the best results on the fashion-MNIST dataset"
      ]
    },
    {
      "cell_type": "markdown",
      "metadata": {
        "id": "MKcs4pKaIX3j"
      },
      "source": [
        "# Importing necessary libraries"
      ]
    },
    {
      "cell_type": "code",
      "metadata": {
        "id": "wlyfbUDOV_9A"
      },
      "source": [
        "!pip install -q -U tensorflow>=1.8.0\n",
        "import tensorflow as tf\n",
        "import numpy as np\n",
        "import matplotlib.pyplot as plt\n",
        "import pandas as pd\n",
        "\n",
        "from keras.callbacks import EarlyStopping\n",
        "\n",
        "\n",
        "import os\n",
        "import gzip"
      ],
      "execution_count": null,
      "outputs": []
    },
    {
      "cell_type": "code",
      "metadata": {
        "id": "MD8Egm8AczK5"
      },
      "source": [
        "np.random.seed(42)"
      ],
      "execution_count": null,
      "outputs": []
    },
    {
      "cell_type": "markdown",
      "metadata": {
        "id": "zipezILEId6M"
      },
      "source": [
        "# Downloading data"
      ]
    },
    {
      "cell_type": "code",
      "metadata": {
        "colab": {
          "base_uri": "https://localhost:8080/"
        },
        "id": "wdfG9HfnajtX",
        "outputId": "d02955cd-781d-4597-b812-a99874ef7626"
      },
      "source": [
        "! wget http://fashion-mnist.s3-website.eu-central-1.amazonaws.com/train-images-idx3-ubyte.gz\n",
        "! wget http://fashion-mnist.s3-website.eu-central-1.amazonaws.com/train-labels-idx1-ubyte.gz\n",
        "! wget http://fashion-mnist.s3-website.eu-central-1.amazonaws.com/t10k-images-idx3-ubyte.gz\n",
        "! wget http://fashion-mnist.s3-website.eu-central-1.amazonaws.com/t10k-labels-idx1-ubyte.gz\n"
      ],
      "execution_count": null,
      "outputs": [
        {
          "output_type": "stream",
          "text": [
            "--2021-08-23 16:23:20--  http://fashion-mnist.s3-website.eu-central-1.amazonaws.com/train-images-idx3-ubyte.gz\n",
            "Resolving fashion-mnist.s3-website.eu-central-1.amazonaws.com (fashion-mnist.s3-website.eu-central-1.amazonaws.com)... 52.219.140.108\n",
            "Connecting to fashion-mnist.s3-website.eu-central-1.amazonaws.com (fashion-mnist.s3-website.eu-central-1.amazonaws.com)|52.219.140.108|:80... connected.\n",
            "HTTP request sent, awaiting response... 200 OK\n",
            "Length: 26421880 (25M) [binary/octet-stream]\n",
            "Saving to: ‘train-images-idx3-ubyte.gz’\n",
            "\n",
            "train-images-idx3-u 100%[===================>]  25.20M  11.8MB/s    in 2.1s    \n",
            "\n",
            "2021-08-23 16:23:23 (11.8 MB/s) - ‘train-images-idx3-ubyte.gz’ saved [26421880/26421880]\n",
            "\n",
            "--2021-08-23 16:23:23--  http://fashion-mnist.s3-website.eu-central-1.amazonaws.com/train-labels-idx1-ubyte.gz\n",
            "Resolving fashion-mnist.s3-website.eu-central-1.amazonaws.com (fashion-mnist.s3-website.eu-central-1.amazonaws.com)... 52.219.140.108\n",
            "Connecting to fashion-mnist.s3-website.eu-central-1.amazonaws.com (fashion-mnist.s3-website.eu-central-1.amazonaws.com)|52.219.140.108|:80... connected.\n",
            "HTTP request sent, awaiting response... 200 OK\n",
            "Length: 29515 (29K) [binary/octet-stream]\n",
            "Saving to: ‘train-labels-idx1-ubyte.gz’\n",
            "\n",
            "train-labels-idx1-u 100%[===================>]  28.82K  --.-KB/s    in 0.1s    \n",
            "\n",
            "2021-08-23 16:23:23 (204 KB/s) - ‘train-labels-idx1-ubyte.gz’ saved [29515/29515]\n",
            "\n",
            "--2021-08-23 16:23:24--  http://fashion-mnist.s3-website.eu-central-1.amazonaws.com/t10k-images-idx3-ubyte.gz\n",
            "Resolving fashion-mnist.s3-website.eu-central-1.amazonaws.com (fashion-mnist.s3-website.eu-central-1.amazonaws.com)... 52.219.75.32\n",
            "Connecting to fashion-mnist.s3-website.eu-central-1.amazonaws.com (fashion-mnist.s3-website.eu-central-1.amazonaws.com)|52.219.75.32|:80... connected.\n",
            "HTTP request sent, awaiting response... 200 OK\n",
            "Length: 4422102 (4.2M) [binary/octet-stream]\n",
            "Saving to: ‘t10k-images-idx3-ubyte.gz’\n",
            "\n",
            "t10k-images-idx3-ub 100%[===================>]   4.22M  3.75MB/s    in 1.1s    \n",
            "\n",
            "2021-08-23 16:23:25 (3.75 MB/s) - ‘t10k-images-idx3-ubyte.gz’ saved [4422102/4422102]\n",
            "\n",
            "--2021-08-23 16:23:25--  http://fashion-mnist.s3-website.eu-central-1.amazonaws.com/t10k-labels-idx1-ubyte.gz\n",
            "Resolving fashion-mnist.s3-website.eu-central-1.amazonaws.com (fashion-mnist.s3-website.eu-central-1.amazonaws.com)... 52.219.75.32\n",
            "Connecting to fashion-mnist.s3-website.eu-central-1.amazonaws.com (fashion-mnist.s3-website.eu-central-1.amazonaws.com)|52.219.75.32|:80... connected.\n",
            "HTTP request sent, awaiting response... 200 OK\n",
            "Length: 5148 (5.0K) [binary/octet-stream]\n",
            "Saving to: ‘t10k-labels-idx1-ubyte.gz’\n",
            "\n",
            "t10k-labels-idx1-ub 100%[===================>]   5.03K  --.-KB/s    in 0s      \n",
            "\n",
            "2021-08-23 16:23:25 (548 MB/s) - ‘t10k-labels-idx1-ubyte.gz’ saved [5148/5148]\n",
            "\n"
          ],
          "name": "stdout"
        }
      ]
    },
    {
      "cell_type": "markdown",
      "metadata": {
        "id": "bK0gYatPInq0"
      },
      "source": [
        "# Loading data"
      ]
    },
    {
      "cell_type": "code",
      "metadata": {
        "id": "I0GCWJu-cCkB"
      },
      "source": [
        "def load_mnist(path, kind='train'):\n",
        "    \"\"\"Load MNIST data from `path`.\n",
        "    \"\"\"\n",
        "    labels_path = os.path.join(path,'%s-labels-idx1-ubyte.gz' % kind)\n",
        "    images_path = os.path.join(path,'%s-images-idx3-ubyte.gz' % kind)\n",
        "\n",
        "    with gzip.open(labels_path, 'rb') as lbpath:\n",
        "        labels = np.frombuffer(lbpath.read(), dtype=np.uint8,\n",
        "                               offset=8)\n",
        "\n",
        "    with gzip.open(images_path, 'rb') as imgpath:\n",
        "        images = np.frombuffer(imgpath.read(), dtype=np.uint8,\n",
        "                               offset=16).reshape(len(labels), 784)\n",
        "\n",
        "    return images, labels\n"
      ],
      "execution_count": null,
      "outputs": []
    },
    {
      "cell_type": "code",
      "metadata": {
        "id": "llgNAOc3cUef"
      },
      "source": [
        "train_images, train_labels = load_mnist('.')\n",
        "train_images = train_images / 255.\n",
        "\n",
        "valid_test_images, valid_test_labels = load_mnist('.', 't10k')\n",
        "\n",
        "valid_test_images = valid_test_images / 255. # the same normalization for valid and test\n",
        "\n",
        "valid_images = valid_test_images[:5000]\n",
        "valid_labels = valid_test_labels[:5000]\n",
        "test_images = valid_test_images[5000:]\n",
        "test_labels = valid_test_labels[5000:]\n"
      ],
      "execution_count": null,
      "outputs": []
    },
    {
      "cell_type": "code",
      "metadata": {
        "colab": {
          "base_uri": "https://localhost:8080/"
        },
        "id": "grTs4uK8DFbO",
        "outputId": "30f39537-5e37-49d5-fbfd-0b135452204a"
      },
      "source": [
        "train_images.shape"
      ],
      "execution_count": null,
      "outputs": [
        {
          "data": {
            "text/plain": [
              "(60000, 784)"
            ]
          },
          "execution_count": 29,
          "metadata": {},
          "output_type": "execute_result"
        }
      ]
    },
    {
      "cell_type": "markdown",
      "metadata": {
        "id": "K7WnjcmOojg6"
      },
      "source": [
        "### Getting the shape of the input"
      ]
    },
    {
      "cell_type": "code",
      "metadata": {
        "colab": {
          "base_uri": "https://localhost:8080/"
        },
        "id": "4stJtjvCFDWr",
        "outputId": "3fad86ca-ef87-41dd-d1c9-8806455fd50f"
      },
      "source": [
        "train_images[0].shape"
      ],
      "execution_count": null,
      "outputs": [
        {
          "data": {
            "text/plain": [
              "(784,)"
            ]
          },
          "execution_count": 30,
          "metadata": {},
          "output_type": "execute_result"
        }
      ]
    },
    {
      "cell_type": "markdown",
      "metadata": {
        "id": "SPvVPLyDIJnR"
      },
      "source": [
        "### Getting the number of classes"
      ]
    },
    {
      "cell_type": "code",
      "metadata": {
        "colab": {
          "base_uri": "https://localhost:8080/"
        },
        "id": "ri1A48VbGmsZ",
        "outputId": "ad173ab5-2515-40f2-d02b-260a6d8989d8"
      },
      "source": [
        "pd.unique(train_labels)\n"
      ],
      "execution_count": null,
      "outputs": [
        {
          "data": {
            "text/plain": [
              "array([9, 0, 3, 2, 7, 5, 1, 6, 4, 8], dtype=uint8)"
            ]
          },
          "execution_count": 31,
          "metadata": {},
          "output_type": "execute_result"
        }
      ]
    },
    {
      "cell_type": "markdown",
      "metadata": {
        "id": "FN-AF57HDXHS"
      },
      "source": [
        "# Models with `fully connected` **Dense** layers"
      ]
    },
    {
      "cell_type": "markdown",
      "metadata": {
        "id": "uZFiHYw4uPB-"
      },
      "source": [
        "### Saving the best model accuracy and model name into variables"
      ]
    },
    {
      "cell_type": "code",
      "metadata": {
        "id": "44MmJQssKYMp"
      },
      "source": [
        "best= 0. #best accuracy\n",
        "best_model = \"\"  #best model"
      ],
      "execution_count": null,
      "outputs": []
    },
    {
      "cell_type": "markdown",
      "metadata": {
        "id": "cDhyo1Y8Qhij"
      },
      "source": [
        "## The **basic model** for testing with only two `Dense` layers"
      ]
    },
    {
      "cell_type": "markdown",
      "metadata": {
        "id": "LIe6iL7pRnUH"
      },
      "source": [
        "Since this is a multy class classification task with 10 labels (integer (class number), I will use in all models the \"sparse_categorical_crossentropy\" loss function and the Softmax activation for the last layer. In this model I will use the Adam optimizer and 15 epochs."
      ]
    },
    {
      "cell_type": "code",
      "metadata": {
        "colab": {
          "base_uri": "https://localhost:8080/"
        },
        "id": "W04A2hZqQlsS",
        "outputId": "88ad429f-b2c5-49a4-b163-3ea4b3ec1eb3"
      },
      "source": [
        "batch_size= 256\n",
        "\n",
        "model = tf.keras.Sequential()\n",
        "model.add(tf.keras.layers.Dense(512, input_shape=(784,), activation='relu'))\n",
        "model.add(tf.keras.layers.Dense(10, activation='softmax'))\n",
        "\n",
        "model.summary()\n",
        "model.compile(optimizer=\"adam\", loss=\"sparse_categorical_crossentropy\", metrics=[\"accuracy\"])\n",
        "\n",
        "history = model.fit(train_images, train_labels, \n",
        "          epochs=15, \n",
        "          batch_size = batch_size, \n",
        "          validation_data=(valid_images, valid_labels),\n",
        "          verbose = 1)\n",
        "test_loss, test_acc = model.evaluate(test_images, test_labels)\n",
        "print(\"test accurancy: \", test_acc)\n",
        "\n",
        "if test_acc > best:\n",
        "  best = test_acc\n",
        "  best_model = \"basic model\"\n",
        "  model.save('my_model.h5')"
      ],
      "execution_count": null,
      "outputs": [
        {
          "output_type": "stream",
          "text": [
            "Model: \"sequential_1\"\n",
            "_________________________________________________________________\n",
            "Layer (type)                 Output Shape              Param #   \n",
            "=================================================================\n",
            "dense_2 (Dense)              (None, 512)               401920    \n",
            "_________________________________________________________________\n",
            "dense_3 (Dense)              (None, 10)                5130      \n",
            "=================================================================\n",
            "Total params: 407,050\n",
            "Trainable params: 407,050\n",
            "Non-trainable params: 0\n",
            "_________________________________________________________________\n",
            "Epoch 1/15\n",
            "235/235 [==============================] - 1s 3ms/step - loss: 0.5440 - accuracy: 0.8117 - val_loss: 0.4558 - val_accuracy: 0.8432\n",
            "Epoch 2/15\n",
            "235/235 [==============================] - 1s 3ms/step - loss: 0.3920 - accuracy: 0.8611 - val_loss: 0.4169 - val_accuracy: 0.8496\n",
            "Epoch 3/15\n",
            "235/235 [==============================] - 1s 3ms/step - loss: 0.3521 - accuracy: 0.8745 - val_loss: 0.3721 - val_accuracy: 0.8688\n",
            "Epoch 4/15\n",
            "235/235 [==============================] - 1s 3ms/step - loss: 0.3196 - accuracy: 0.8849 - val_loss: 0.3536 - val_accuracy: 0.8750\n",
            "Epoch 5/15\n",
            "235/235 [==============================] - 1s 3ms/step - loss: 0.2980 - accuracy: 0.8916 - val_loss: 0.3570 - val_accuracy: 0.8718\n",
            "Epoch 6/15\n",
            "235/235 [==============================] - 1s 3ms/step - loss: 0.2881 - accuracy: 0.8947 - val_loss: 0.3345 - val_accuracy: 0.8810\n",
            "Epoch 7/15\n",
            "235/235 [==============================] - 1s 3ms/step - loss: 0.2734 - accuracy: 0.8997 - val_loss: 0.3413 - val_accuracy: 0.8782\n",
            "Epoch 8/15\n",
            "235/235 [==============================] - 1s 3ms/step - loss: 0.2562 - accuracy: 0.9061 - val_loss: 0.3318 - val_accuracy: 0.8800\n",
            "Epoch 9/15\n",
            "235/235 [==============================] - 1s 2ms/step - loss: 0.2479 - accuracy: 0.9091 - val_loss: 0.3281 - val_accuracy: 0.8832\n",
            "Epoch 10/15\n",
            "235/235 [==============================] - 1s 3ms/step - loss: 0.2393 - accuracy: 0.9118 - val_loss: 0.3418 - val_accuracy: 0.8822\n",
            "Epoch 11/15\n",
            "235/235 [==============================] - 1s 3ms/step - loss: 0.2303 - accuracy: 0.9146 - val_loss: 0.3313 - val_accuracy: 0.8832\n",
            "Epoch 12/15\n",
            "235/235 [==============================] - 1s 2ms/step - loss: 0.2195 - accuracy: 0.9190 - val_loss: 0.3123 - val_accuracy: 0.8892\n",
            "Epoch 13/15\n",
            "235/235 [==============================] - 1s 3ms/step - loss: 0.2146 - accuracy: 0.9210 - val_loss: 0.3358 - val_accuracy: 0.8822\n",
            "Epoch 14/15\n",
            "235/235 [==============================] - 1s 3ms/step - loss: 0.2039 - accuracy: 0.9260 - val_loss: 0.3307 - val_accuracy: 0.8858\n",
            "Epoch 15/15\n",
            "235/235 [==============================] - 1s 2ms/step - loss: 0.1968 - accuracy: 0.9282 - val_loss: 0.3244 - val_accuracy: 0.8872\n",
            "157/157 [==============================] - 0s 2ms/step - loss: 0.3118 - accuracy: 0.8920\n",
            "test accurancy:  0.8920000195503235\n"
          ],
          "name": "stdout"
        }
      ]
    },
    {
      "cell_type": "markdown",
      "metadata": {
        "id": "JiRA912ZSeKw"
      },
      "source": [
        "The basic model has managed to achieve 89,3% accuracy on test data. <br/>I managed to achive this **result with batch size of 256 and 512 units** in the dense layer. <br/> I tried other parameters (64, 128, 256) for batch size and units, but with that parameters the model had less accuracy. <br/> I tried sigmoid activation function on the basic model as well, but **relu had better accuracy**. Since I use Adam optimizer I chose only 15 epochs to train the model."
      ]
    },
    {
      "cell_type": "markdown",
      "metadata": {
        "id": "qSfJR-g1XQWx"
      },
      "source": [
        "## Gird Search for the first model"
      ]
    },
    {
      "cell_type": "markdown",
      "metadata": {
        "id": "QIxtaH3RptAt"
      },
      "source": [
        "Before creating the grid search I tried the sigmoid activation function on the basic model, but relu had better accuracy. So in the grid search I will use the relu activation functions in the hidden layers. <br/>\n",
        "I added a new Dense layer and two dropout layer as well to the model to try to increase accuracy.<br/>\n",
        "With the grid search I will look for optimal hyperparameters for batch size, units, dropout rate and otimizer.\n"
      ]
    },
    {
      "cell_type": "code",
      "metadata": {
        "colab": {
          "base_uri": "https://localhost:8080/"
        },
        "id": "NY64lW4KXYuB",
        "outputId": "30cabd17-82af-4bed-b8dd-fd6c874ffb48"
      },
      "source": [
        "# this cell runs for 29 minutes !!!\n",
        "from sklearn.model_selection import GridSearchCV\n",
        "from sklearn.model_selection import train_test_split\n",
        "from keras.wrappers.scikit_learn import KerasClassifier\n",
        "\n",
        "# getting the 20% of train data\n",
        "X_grid, X_notused, y_grid, y_notused = train_test_split(train_images, train_labels, test_size=0.8, stratify = train_labels, random_state=42)\n",
        "\n",
        "batch_size= [64, 128, 256, 512]\n",
        "units = [128, 256, 512]\n",
        "dropout = [0.1, 0.15, 0.2, 0.3]\n",
        "opt = [\"adam\", \"SGD\", \"adadelta\"]\n",
        "\n",
        "def build_model(opt, dropout, units, batch_size):\n",
        "  model = tf.keras.Sequential()\n",
        "  model.add(tf.keras.layers.Dense(units, input_shape=(784,), activation='relu'))\n",
        "  model.add(tf.keras.layers.Dropout(dropout))\n",
        "  model.add(tf.keras.layers.Dense(32, activation='relu'))\n",
        "  model.add(tf.keras.layers.Dropout(dropout))\n",
        "  model.add(tf.keras.layers.Dense(10, activation='softmax'))\n",
        "\n",
        "  model.compile(optimizer=opt, loss=\"sparse_categorical_crossentropy\", metrics=[\"accuracy\"])\n",
        "  return model\n",
        "\n",
        "model = KerasClassifier(build_fn=build_model, epochs=30,  verbose=0)\n",
        "\n",
        "\n",
        "param_grid = dict(opt=opt,  dropout = dropout, units= units,  batch_size = batch_size )\n",
        "grid = GridSearchCV(estimator=model, param_grid=param_grid, n_jobs=-1, cv=3)\n",
        "grid_result = grid.fit(X_grid, y_grid)\n",
        "\n",
        "print(\"Best: %f using %s\" % (grid_result.best_score_, grid_result.best_params_))"
      ],
      "execution_count": null,
      "outputs": [
        {
          "name": "stderr",
          "output_type": "stream",
          "text": [
            "/usr/local/lib/python3.7/dist-packages/joblib/externals/loky/process_executor.py:691: UserWarning: A worker stopped while some jobs were given to the executor. This can be caused by a too short worker timeout or by a memory leak.\n",
            "  \"timeout or by a memory leak.\", UserWarning\n"
          ]
        },
        {
          "name": "stdout",
          "output_type": "stream",
          "text": [
            "Best: 0.871667 using {'batch_size': 64, 'dropout': 0.1, 'opt': 'adam', 'units': 256}\n"
          ]
        }
      ]
    },
    {
      "cell_type": "markdown",
      "metadata": {
        "id": "8tJVXSvPjz1N"
      },
      "source": [
        "### Results of Grid search\n",
        "* Best: 0.871667 using: 'batch_size': 64, 'dropout': 0.1, 'opt': 'adam', 'units': 256"
      ]
    },
    {
      "cell_type": "markdown",
      "metadata": {
        "id": "qfnhaEEKDRiF"
      },
      "source": [
        "## First model"
      ]
    },
    {
      "cell_type": "markdown",
      "metadata": {
        "id": "9IeCJf6HHi-l"
      },
      "source": [
        "In the first model I am testing the model with the grid search output parameters.  \n",
        "I added early stopping with a patience of 10 epochs to avoid overfitting of the model and I set a learning rate of 0.002 to the Adam optimizer as well."
      ]
    },
    {
      "cell_type": "code",
      "metadata": {
        "colab": {
          "base_uri": "https://localhost:8080/"
        },
        "id": "KhDlknDv9zEe",
        "outputId": "3e831ca5-f29d-4d19-b2a2-f5708a0ec4f7"
      },
      "source": [
        "batch_size= 64\n",
        "learning_rate = 0.002\n",
        "\n",
        "model = tf.keras.Sequential()\n",
        "model.add(tf.keras.layers.Dense(256, input_shape=(784,), activation='relu'))\n",
        "model.add(tf.keras.layers.Dropout(0.1))\n",
        "model.add(tf.keras.layers.Dense(32, activation='relu'))\n",
        "model.add(tf.keras.layers.Dropout(0.1))\n",
        "model.add(tf.keras.layers.Dense(10, activation='softmax'))\n",
        "\n",
        "model.summary()\n",
        "\n",
        "adam = = tf.keras.optimizers.Adam(learning_rate=learning_rate)\n",
        "\n",
        "model.compile(optimizer=adam, loss=\"sparse_categorical_crossentropy\", metrics=[\"accuracy\"])\n",
        "\n",
        "es = EarlyStopping(monitor='val_loss', mode='min', verbose=1, patience=10)\n",
        "\n",
        "history = model.fit(train_images, train_labels, \n",
        "          epochs=30, \n",
        "          batch_size = batch_size, \n",
        "          validation_data=(valid_images, valid_labels),\n",
        "          verbose = 1,\n",
        "          callbacks = [es])\n",
        "test_loss, test_acc = model.evaluate(test_images, test_labels)\n",
        "print(\"test accurancy: \", test_acc)\n",
        "if test_acc > best:\n",
        "  best = test_acc\n",
        "  best_model = \"first\"\n",
        "  model.save('my_model.h5')"
      ],
      "execution_count": null,
      "outputs": [
        {
          "name": "stdout",
          "output_type": "stream",
          "text": [
            "Model: \"sequential_20\"\n",
            "_________________________________________________________________\n",
            "Layer (type)                 Output Shape              Param #   \n",
            "=================================================================\n",
            "dense_46 (Dense)             (None, 256)               200960    \n",
            "_________________________________________________________________\n",
            "dropout_12 (Dropout)         (None, 256)               0         \n",
            "_________________________________________________________________\n",
            "dense_47 (Dense)             (None, 32)                8224      \n",
            "_________________________________________________________________\n",
            "dropout_13 (Dropout)         (None, 32)                0         \n",
            "_________________________________________________________________\n",
            "dense_48 (Dense)             (None, 10)                330       \n",
            "=================================================================\n",
            "Total params: 209,514\n",
            "Trainable params: 209,514\n",
            "Non-trainable params: 0\n",
            "_________________________________________________________________\n",
            "Epoch 1/30\n",
            "938/938 [==============================] - 4s 4ms/step - loss: 0.5477 - accuracy: 0.8038 - val_loss: 0.4358 - val_accuracy: 0.8466\n",
            "Epoch 2/30\n",
            "938/938 [==============================] - 3s 3ms/step - loss: 0.4068 - accuracy: 0.8530 - val_loss: 0.3905 - val_accuracy: 0.8582\n",
            "Epoch 3/30\n",
            "938/938 [==============================] - 3s 3ms/step - loss: 0.3725 - accuracy: 0.8648 - val_loss: 0.3678 - val_accuracy: 0.8696\n",
            "Epoch 4/30\n",
            "938/938 [==============================] - 3s 4ms/step - loss: 0.3555 - accuracy: 0.8691 - val_loss: 0.3590 - val_accuracy: 0.8718\n",
            "Epoch 5/30\n",
            "938/938 [==============================] - 3s 3ms/step - loss: 0.3356 - accuracy: 0.8772 - val_loss: 0.3742 - val_accuracy: 0.8682\n",
            "Epoch 6/30\n",
            "938/938 [==============================] - 3s 3ms/step - loss: 0.3229 - accuracy: 0.8813 - val_loss: 0.3665 - val_accuracy: 0.8678\n",
            "Epoch 7/30\n",
            "938/938 [==============================] - 3s 3ms/step - loss: 0.3123 - accuracy: 0.8851 - val_loss: 0.3628 - val_accuracy: 0.8696\n",
            "Epoch 8/30\n",
            "938/938 [==============================] - 3s 3ms/step - loss: 0.3009 - accuracy: 0.8894 - val_loss: 0.3484 - val_accuracy: 0.8774\n",
            "Epoch 9/30\n",
            "938/938 [==============================] - 3s 3ms/step - loss: 0.2918 - accuracy: 0.8911 - val_loss: 0.3377 - val_accuracy: 0.8754\n",
            "Epoch 10/30\n",
            "938/938 [==============================] - 3s 3ms/step - loss: 0.2889 - accuracy: 0.8920 - val_loss: 0.3478 - val_accuracy: 0.8748\n",
            "Epoch 11/30\n",
            "938/938 [==============================] - 3s 4ms/step - loss: 0.2791 - accuracy: 0.8952 - val_loss: 0.3713 - val_accuracy: 0.8654\n",
            "Epoch 12/30\n",
            "938/938 [==============================] - 3s 3ms/step - loss: 0.2760 - accuracy: 0.8976 - val_loss: 0.3395 - val_accuracy: 0.8798\n",
            "Epoch 13/30\n",
            "938/938 [==============================] - 3s 3ms/step - loss: 0.2669 - accuracy: 0.9013 - val_loss: 0.3466 - val_accuracy: 0.8812\n",
            "Epoch 14/30\n",
            "938/938 [==============================] - 3s 4ms/step - loss: 0.2644 - accuracy: 0.8996 - val_loss: 0.3333 - val_accuracy: 0.8808\n",
            "Epoch 15/30\n",
            "938/938 [==============================] - 3s 4ms/step - loss: 0.2605 - accuracy: 0.9035 - val_loss: 0.3321 - val_accuracy: 0.8836\n",
            "Epoch 16/30\n",
            "938/938 [==============================] - 3s 3ms/step - loss: 0.2555 - accuracy: 0.9042 - val_loss: 0.3353 - val_accuracy: 0.8746\n",
            "Epoch 17/30\n",
            "938/938 [==============================] - 3s 3ms/step - loss: 0.2481 - accuracy: 0.9054 - val_loss: 0.3334 - val_accuracy: 0.8794\n",
            "Epoch 18/30\n",
            "938/938 [==============================] - 3s 3ms/step - loss: 0.2445 - accuracy: 0.9082 - val_loss: 0.3444 - val_accuracy: 0.8832\n",
            "Epoch 19/30\n",
            "938/938 [==============================] - 3s 3ms/step - loss: 0.2421 - accuracy: 0.9085 - val_loss: 0.3287 - val_accuracy: 0.8820\n",
            "Epoch 20/30\n",
            "938/938 [==============================] - 3s 3ms/step - loss: 0.2377 - accuracy: 0.9106 - val_loss: 0.3338 - val_accuracy: 0.8844\n",
            "Epoch 21/30\n",
            "938/938 [==============================] - 3s 3ms/step - loss: 0.2345 - accuracy: 0.9115 - val_loss: 0.3418 - val_accuracy: 0.8840\n",
            "Epoch 22/30\n",
            "938/938 [==============================] - 3s 3ms/step - loss: 0.2325 - accuracy: 0.9113 - val_loss: 0.3416 - val_accuracy: 0.8862\n",
            "Epoch 23/30\n",
            "938/938 [==============================] - 3s 4ms/step - loss: 0.2275 - accuracy: 0.9132 - val_loss: 0.3400 - val_accuracy: 0.8850\n",
            "Epoch 24/30\n",
            "938/938 [==============================] - 3s 3ms/step - loss: 0.2253 - accuracy: 0.9150 - val_loss: 0.3621 - val_accuracy: 0.8748\n",
            "Epoch 25/30\n",
            "938/938 [==============================] - 3s 3ms/step - loss: 0.2210 - accuracy: 0.9156 - val_loss: 0.3373 - val_accuracy: 0.8894\n",
            "Epoch 26/30\n",
            "938/938 [==============================] - 3s 3ms/step - loss: 0.2173 - accuracy: 0.9193 - val_loss: 0.3540 - val_accuracy: 0.8828\n",
            "Epoch 27/30\n",
            "938/938 [==============================] - 3s 3ms/step - loss: 0.2163 - accuracy: 0.9182 - val_loss: 0.3612 - val_accuracy: 0.8844\n",
            "Epoch 28/30\n",
            "938/938 [==============================] - 3s 3ms/step - loss: 0.2163 - accuracy: 0.9174 - val_loss: 0.3622 - val_accuracy: 0.8836\n",
            "Epoch 29/30\n",
            "938/938 [==============================] - 3s 3ms/step - loss: 0.2129 - accuracy: 0.9187 - val_loss: 0.3376 - val_accuracy: 0.8866\n",
            "Epoch 00029: early stopping\n",
            "157/157 [==============================] - 0s 3ms/step - loss: 0.3384 - accuracy: 0.8906\n",
            "test accurancy:  0.8906000256538391\n"
          ]
        }
      ]
    },
    {
      "cell_type": "markdown",
      "metadata": {
        "id": "B_JxRZdcORr3"
      },
      "source": [
        "## Defining a function to plot train and validation accuracy and loss"
      ]
    },
    {
      "cell_type": "code",
      "metadata": {
        "colab": {
          "base_uri": "https://localhost:8080/",
          "height": 350
        },
        "id": "abOfFgwcScAW",
        "outputId": "77178805-3a2a-4aa6-a4e5-995d22f19819"
      },
      "source": [
        "def plothistory(history):\n",
        "  plt.figure(figsize = (12,5))\n",
        "  plt.subplot(121)\n",
        "  plt.plot(history.history['accuracy'])\n",
        "  plt.plot(history.history['val_accuracy'])\n",
        "  plt.title('accuracy of the model ')\n",
        "  plt.ylabel('accuracy')\n",
        "  plt.xlabel('epoch')\n",
        "  plt.legend(['train', 'validation'], loc='best')\n",
        "\n",
        "  # summarize history for loss\n",
        "  plt.subplot(122)\n",
        "  plt.plot(history.history['loss'])\n",
        "  plt.plot(history.history['val_loss'])\n",
        "  plt.title('loss of the model ')\n",
        "  plt.ylabel('loss')\n",
        "  plt.xlabel('epoch')\n",
        "  plt.legend(['train', 'validation'], loc='best')\n",
        "\n",
        "plothistory(history)\n"
      ],
      "execution_count": null,
      "outputs": [
        {
          "data": {
            "image/png": "[encoded data removed]",
            "text/plain": [
              "<Figure size 864x360 with 2 Axes>"
            ]
          },
          "metadata": {},
          "output_type": "display_data"
        }
      ]
    },
    {
      "cell_type": "markdown",
      "metadata": {
        "id": "54h4AxgYmHOQ"
      },
      "source": [
        "The model managed to achive 89,06% accuracy. The plot shows that after 2 epochs the validation accuracy goes below train accuracy and it increases less slowly than train accuracy afterwards."
      ]
    },
    {
      "cell_type": "markdown",
      "metadata": {
        "id": "SvmT0tIpMNEJ"
      },
      "source": [
        "## Second model"
      ]
    },
    {
      "cell_type": "markdown",
      "metadata": {
        "id": "QGI710IGmWK8"
      },
      "source": [
        "To increase accuracy, I added **4 additional hidden layers** to the model, 1 more dropout and 3 dense layers. This time I used sigmoid activation function as well in one of the hidden layers, because I found that it improves the model's accuracy. I **changed the probability of the first dropout function** to 0.6, to 0.3 the second and 0.2 the third, because I found that it makes the model more accurate. I used the adam optimizer function with the default parameters in this case."
      ]
    },
    {
      "cell_type": "code",
      "metadata": {
        "colab": {
          "base_uri": "https://localhost:8080/"
        },
        "id": "k3j2JmB-MNNR",
        "outputId": "c389546d-a7b0-4f6a-b01d-0ea977dc5abd"
      },
      "source": [
        "batch = 64\n",
        "\n",
        "model = tf.keras.Sequential()\n",
        "model.add(tf.keras.layers.Dense(256, input_shape=(784,), activation='relu'))\n",
        "model.add(tf.keras.layers.Dense(256, activation='sigmoid'))\n",
        "model.add(tf.keras.layers.Dense(128, activation='relu'))\n",
        "model.add(tf.keras.layers.Dropout(0.6))\n",
        "model.add(tf.keras.layers.Dense(64, activation='relu'))\n",
        "model.add(tf.keras.layers.Dropout(0.3))\n",
        "model.add(tf.keras.layers.Dense(64, activation='relu'))\n",
        "model.add(tf.keras.layers.Dropout(0.2))\n",
        "model.add(tf.keras.layers.Dense(10, activation='softmax'))\n",
        "\n",
        "es = EarlyStopping(monitor='val_loss', mode='min', verbose=1, patience=8)\n",
        "\n",
        "\n",
        "model.summary()\n",
        "model.compile(optimizer='adam', loss=\"sparse_categorical_crossentropy\", metrics=[\"accuracy\"])\n",
        "history = model.fit(\n",
        "    train_images, train_labels, \n",
        "    epochs=30, \n",
        "    batch_size = batch_size, \n",
        "    validation_data=(valid_images, valid_labels), \n",
        "    verbose = 1, \n",
        "    callbacks = [es])\n",
        "\n",
        "test_loss, test_acc = model.evaluate(test_images, test_labels)\n",
        "print(\"test accuracy: \", test_acc)\n",
        "\n",
        "if test_acc > best:\n",
        "  best = test_acc\n",
        "  best_model = \"second\"\n",
        "  model.save('my_model.h5')"
      ],
      "execution_count": null,
      "outputs": [
        {
          "name": "stdout",
          "output_type": "stream",
          "text": [
            "Model: \"sequential_27\"\n",
            "_________________________________________________________________\n",
            "Layer (type)                 Output Shape              Param #   \n",
            "=================================================================\n",
            "dense_85 (Dense)             (None, 256)               200960    \n",
            "_________________________________________________________________\n",
            "dense_86 (Dense)             (None, 256)               65792     \n",
            "_________________________________________________________________\n",
            "dense_87 (Dense)             (None, 128)               32896     \n",
            "_________________________________________________________________\n",
            "dropout_32 (Dropout)         (None, 128)               0         \n",
            "_________________________________________________________________\n",
            "dense_88 (Dense)             (None, 64)                8256      \n",
            "_________________________________________________________________\n",
            "dropout_33 (Dropout)         (None, 64)                0         \n",
            "_________________________________________________________________\n",
            "dense_89 (Dense)             (None, 64)                4160      \n",
            "_________________________________________________________________\n",
            "dropout_34 (Dropout)         (None, 64)                0         \n",
            "_________________________________________________________________\n",
            "dense_90 (Dense)             (None, 10)                650       \n",
            "=================================================================\n",
            "Total params: 312,714\n",
            "Trainable params: 312,714\n",
            "Non-trainable params: 0\n",
            "_________________________________________________________________\n",
            "Epoch 1/30\n",
            "938/938 [==============================] - 4s 4ms/step - loss: 0.9125 - accuracy: 0.6522 - val_loss: 0.4975 - val_accuracy: 0.8140\n",
            "Epoch 2/30\n",
            "938/938 [==============================] - 4s 4ms/step - loss: 0.5541 - accuracy: 0.8071 - val_loss: 0.4421 - val_accuracy: 0.8488\n",
            "Epoch 3/30\n",
            "938/938 [==============================] - 4s 4ms/step - loss: 0.4789 - accuracy: 0.8389 - val_loss: 0.3989 - val_accuracy: 0.8638\n",
            "Epoch 4/30\n",
            "938/938 [==============================] - 4s 4ms/step - loss: 0.4369 - accuracy: 0.8535 - val_loss: 0.3885 - val_accuracy: 0.8606\n",
            "Epoch 5/30\n",
            "938/938 [==============================] - 4s 4ms/step - loss: 0.4083 - accuracy: 0.8610 - val_loss: 0.3783 - val_accuracy: 0.8684\n",
            "Epoch 6/30\n",
            "938/938 [==============================] - 4s 4ms/step - loss: 0.3856 - accuracy: 0.8700 - val_loss: 0.3768 - val_accuracy: 0.8698\n",
            "Epoch 7/30\n",
            "938/938 [==============================] - 4s 4ms/step - loss: 0.3670 - accuracy: 0.8755 - val_loss: 0.3564 - val_accuracy: 0.8748\n",
            "Epoch 8/30\n",
            "938/938 [==============================] - 4s 4ms/step - loss: 0.3536 - accuracy: 0.8788 - val_loss: 0.3689 - val_accuracy: 0.8702\n",
            "Epoch 9/30\n",
            "938/938 [==============================] - 4s 4ms/step - loss: 0.3432 - accuracy: 0.8826 - val_loss: 0.3659 - val_accuracy: 0.8720\n",
            "Epoch 10/30\n",
            "938/938 [==============================] - 4s 4ms/step - loss: 0.3308 - accuracy: 0.8876 - val_loss: 0.3574 - val_accuracy: 0.8700\n",
            "Epoch 11/30\n",
            "938/938 [==============================] - 4s 4ms/step - loss: 0.3164 - accuracy: 0.8909 - val_loss: 0.3649 - val_accuracy: 0.8732\n",
            "Epoch 12/30\n",
            "938/938 [==============================] - 4s 4ms/step - loss: 0.3096 - accuracy: 0.8925 - val_loss: 0.3503 - val_accuracy: 0.8760\n",
            "Epoch 13/30\n",
            "938/938 [==============================] - 4s 4ms/step - loss: 0.2994 - accuracy: 0.8956 - val_loss: 0.3464 - val_accuracy: 0.8772\n",
            "Epoch 14/30\n",
            "938/938 [==============================] - 4s 4ms/step - loss: 0.2933 - accuracy: 0.8982 - val_loss: 0.3576 - val_accuracy: 0.8786\n",
            "Epoch 15/30\n",
            "938/938 [==============================] - 4s 4ms/step - loss: 0.2887 - accuracy: 0.8989 - val_loss: 0.3540 - val_accuracy: 0.8796\n",
            "Epoch 16/30\n",
            "938/938 [==============================] - 4s 4ms/step - loss: 0.2803 - accuracy: 0.9025 - val_loss: 0.3605 - val_accuracy: 0.8784\n",
            "Epoch 17/30\n",
            "938/938 [==============================] - 4s 4ms/step - loss: 0.2719 - accuracy: 0.9046 - val_loss: 0.3637 - val_accuracy: 0.8830\n",
            "Epoch 18/30\n",
            "938/938 [==============================] - 4s 4ms/step - loss: 0.2661 - accuracy: 0.9078 - val_loss: 0.3448 - val_accuracy: 0.8832\n",
            "Epoch 19/30\n",
            "938/938 [==============================] - 4s 4ms/step - loss: 0.2636 - accuracy: 0.9081 - val_loss: 0.3705 - val_accuracy: 0.8800\n",
            "Epoch 20/30\n",
            "938/938 [==============================] - 4s 4ms/step - loss: 0.2538 - accuracy: 0.9109 - val_loss: 0.3755 - val_accuracy: 0.8760\n",
            "Epoch 21/30\n",
            "938/938 [==============================] - 4s 4ms/step - loss: 0.2523 - accuracy: 0.9127 - val_loss: 0.3795 - val_accuracy: 0.8808\n",
            "Epoch 22/30\n",
            "938/938 [==============================] - 4s 4ms/step - loss: 0.2454 - accuracy: 0.9140 - val_loss: 0.3610 - val_accuracy: 0.8834\n",
            "Epoch 23/30\n",
            "938/938 [==============================] - 4s 4ms/step - loss: 0.2401 - accuracy: 0.9152 - val_loss: 0.3669 - val_accuracy: 0.8786\n",
            "Epoch 24/30\n",
            "938/938 [==============================] - 4s 4ms/step - loss: 0.2339 - accuracy: 0.9174 - val_loss: 0.3571 - val_accuracy: 0.8886\n",
            "Epoch 25/30\n",
            "938/938 [==============================] - 4s 4ms/step - loss: 0.2341 - accuracy: 0.9180 - val_loss: 0.3544 - val_accuracy: 0.8874\n",
            "Epoch 26/30\n",
            "938/938 [==============================] - 4s 4ms/step - loss: 0.2281 - accuracy: 0.9200 - val_loss: 0.3586 - val_accuracy: 0.8844\n",
            "Epoch 00026: early stopping\n",
            "157/157 [==============================] - 0s 3ms/step - loss: 0.3226 - accuracy: 0.8978\n",
            "test accuracy:  0.8978000283241272\n"
          ]
        }
      ]
    },
    {
      "cell_type": "code",
      "metadata": {
        "colab": {
          "base_uri": "https://localhost:8080/",
          "height": 350
        },
        "id": "bnbf9Yw1G-eB",
        "outputId": "1bc9e8a1-6330-4981-8691-f4f5996da318"
      },
      "source": [
        "plothistory(history)"
      ],
      "execution_count": null,
      "outputs": [
        {
          "data": {
            "image/png": "[encoded data removed]",
            "text/plain": [
              "<Figure size 864x360 with 2 Axes>"
            ]
          },
          "metadata": {},
          "output_type": "display_data"
        }
      ]
    },
    {
      "cell_type": "markdown",
      "metadata": {
        "id": "l6RKiA-poZci"
      },
      "source": [
        "The second model managed to achive 89,78% accuracy, so with adding more layers I managed to improve the model's performance slightly. The plot above shows that with this model I managed to decrease the difference of train and validation accuracy and loss."
      ]
    },
    {
      "cell_type": "markdown",
      "metadata": {
        "id": "pm3uoVQKDqx_"
      },
      "source": [
        "## Third model"
      ]
    },
    {
      "cell_type": "markdown",
      "metadata": {
        "id": "kIwqW1lMvhoZ"
      },
      "source": [
        "Unfortunatly, I did not managed to achive better results than 89,78% with the models with adam optimizer, so I decided to build a model with the SGD optimizer.\n",
        "This time I will not use Grid Search, but go on a trial and error way, when deciding on the model hyperparameters. In this model I will use LearningRateSheduler and early stop as well."
      ]
    },
    {
      "cell_type": "code",
      "metadata": {
        "id": "1uaDj9BmRpjU"
      },
      "source": [
        "from tensorflow.keras.callbacks import LearningRateScheduler"
      ],
      "execution_count": null,
      "outputs": []
    },
    {
      "cell_type": "code",
      "metadata": {
        "id": "HaL_FtoFR9Hh"
      },
      "source": [
        "learning_rate = 0.01\n",
        "batch_size= 192"
      ],
      "execution_count": null,
      "outputs": []
    },
    {
      "cell_type": "markdown",
      "metadata": {
        "id": "0R36o11S3hBK"
      },
      "source": [
        "I found that in case of the SGD optimizer I have to use bigger batch size and the best size I found for this model is 192. I set learning rate to 0.01."
      ]
    },
    {
      "cell_type": "code",
      "metadata": {
        "id": "khfzjhUpReMs"
      },
      "source": [
        "def scheduler(epoch, learning_rate):\n",
        "  if epoch < 4:\n",
        "    return learning_rate*1.5\n",
        "  elif epoch < 10:\n",
        "    return learning_rate\n",
        "  else:\n",
        "    return learning_rate * tf.math.exp(-0.1)"
      ],
      "execution_count": null,
      "outputs": []
    },
    {
      "cell_type": "markdown",
      "metadata": {
        "id": "1DnSW8b4218C"
      },
      "source": [
        "I found that until 4 epochs a higher learning rate can be used, which has to be decreased after it, and than again decrease after the tenth epoch."
      ]
    },
    {
      "cell_type": "code",
      "metadata": {
        "colab": {
          "base_uri": "https://localhost:8080/"
        },
        "id": "moVfua8y9zkF",
        "outputId": "e323e05c-de7d-4c11-ba06-52150352a660"
      },
      "source": [
        "\n",
        "callback = tf.keras.callbacks.LearningRateScheduler(scheduler)\n",
        "es = EarlyStopping(monitor='val_loss', mode='min', verbose=1, patience=5)\n",
        "\n",
        "model = tf.keras.Sequential()\n",
        "model.add(tf.keras.layers.Dense(128, input_shape=(784,), activation='relu'))\n",
        "model.add(tf.keras.layers.Dense(64, activation='relu'))\n",
        "model.add(tf.keras.layers.Dropout(0.3))\n",
        "model.add(tf.keras.layers.Dense(32, activation='relu'))\n",
        "model.add(tf.keras.layers.Dropout(0.3))\n",
        "model.add(tf.keras.layers.Dense(10, activation='softmax'))\n",
        "\n",
        "\n",
        "model.summary()\n",
        "sgd = tf.keras.optimizers.SGD(learning_rate=learning_rate, momentum=0.9)\n",
        "model.compile(optimizer=sgd, loss=\"sparse_categorical_crossentropy\", metrics=[\"accuracy\"])\n",
        "history = model.fit(\n",
        "    train_images, train_labels, \n",
        "    epochs=25, \n",
        "    batch_size = batch_size, \n",
        "    validation_data=(valid_images, valid_labels), \n",
        "    callbacks = [es, callback] )\n",
        "\n",
        "test_loss, test_acc = model.evaluate(test_images, test_labels)\n",
        "print(\"test accuracy: \", test_acc)\n",
        "if test_acc > best:\n",
        "  best = test_acc\n",
        "  best_model = \"third\"\n",
        "  model.save('my_model.h5')"
      ],
      "execution_count": null,
      "outputs": [
        {
          "name": "stdout",
          "output_type": "stream",
          "text": [
            "Model: \"sequential_34\"\n",
            "_________________________________________________________________\n",
            "Layer (type)                 Output Shape              Param #   \n",
            "=================================================================\n",
            "dense_117 (Dense)            (None, 128)               100480    \n",
            "_________________________________________________________________\n",
            "dense_118 (Dense)            (None, 64)                8256      \n",
            "_________________________________________________________________\n",
            "dropout_48 (Dropout)         (None, 64)                0         \n",
            "_________________________________________________________________\n",
            "dense_119 (Dense)            (None, 32)                2080      \n",
            "_________________________________________________________________\n",
            "dropout_49 (Dropout)         (None, 32)                0         \n",
            "_________________________________________________________________\n",
            "dense_120 (Dense)            (None, 10)                330       \n",
            "=================================================================\n",
            "Total params: 111,146\n",
            "Trainable params: 111,146\n",
            "Non-trainable params: 0\n",
            "_________________________________________________________________\n",
            "Epoch 1/25\n",
            "235/235 [==============================] - 1s 5ms/step - loss: 1.0633 - accuracy: 0.6161 - val_loss: 0.5862 - val_accuracy: 0.7892\n",
            "Epoch 2/25\n",
            "235/235 [==============================] - 1s 4ms/step - loss: 0.6188 - accuracy: 0.7846 - val_loss: 0.4909 - val_accuracy: 0.8212\n",
            "Epoch 3/25\n",
            "235/235 [==============================] - 1s 4ms/step - loss: 0.5342 - accuracy: 0.8150 - val_loss: 0.4537 - val_accuracy: 0.8406\n",
            "Epoch 4/25\n",
            "235/235 [==============================] - 1s 4ms/step - loss: 0.4924 - accuracy: 0.8300 - val_loss: 0.4341 - val_accuracy: 0.8414\n",
            "Epoch 5/25\n",
            "235/235 [==============================] - 1s 4ms/step - loss: 0.4598 - accuracy: 0.8388 - val_loss: 0.4001 - val_accuracy: 0.8540\n",
            "Epoch 6/25\n",
            "235/235 [==============================] - 1s 4ms/step - loss: 0.4284 - accuracy: 0.8514 - val_loss: 0.3898 - val_accuracy: 0.8558\n",
            "Epoch 7/25\n",
            "235/235 [==============================] - 1s 4ms/step - loss: 0.4094 - accuracy: 0.8576 - val_loss: 0.3858 - val_accuracy: 0.8614\n",
            "Epoch 8/25\n",
            "235/235 [==============================] - 1s 4ms/step - loss: 0.3900 - accuracy: 0.8630 - val_loss: 0.3815 - val_accuracy: 0.8612\n",
            "Epoch 9/25\n",
            "235/235 [==============================] - 1s 4ms/step - loss: 0.3762 - accuracy: 0.8688 - val_loss: 0.4025 - val_accuracy: 0.8488\n",
            "Epoch 10/25\n",
            "235/235 [==============================] - 1s 4ms/step - loss: 0.3623 - accuracy: 0.8743 - val_loss: 0.4000 - val_accuracy: 0.8556\n",
            "Epoch 11/25\n",
            "235/235 [==============================] - 1s 4ms/step - loss: 0.3530 - accuracy: 0.8752 - val_loss: 0.3843 - val_accuracy: 0.8590\n",
            "Epoch 12/25\n",
            "235/235 [==============================] - 1s 4ms/step - loss: 0.3383 - accuracy: 0.8813 - val_loss: 0.3749 - val_accuracy: 0.8618\n",
            "Epoch 13/25\n",
            "235/235 [==============================] - 1s 4ms/step - loss: 0.3260 - accuracy: 0.8852 - val_loss: 0.3604 - val_accuracy: 0.8698\n",
            "Epoch 14/25\n",
            "235/235 [==============================] - 1s 4ms/step - loss: 0.3174 - accuracy: 0.8880 - val_loss: 0.3551 - val_accuracy: 0.8740\n",
            "Epoch 15/25\n",
            "235/235 [==============================] - 1s 4ms/step - loss: 0.3075 - accuracy: 0.8918 - val_loss: 0.3582 - val_accuracy: 0.8760\n",
            "Epoch 16/25\n",
            "235/235 [==============================] - 1s 4ms/step - loss: 0.3017 - accuracy: 0.8921 - val_loss: 0.3746 - val_accuracy: 0.8626\n",
            "Epoch 17/25\n",
            "235/235 [==============================] - 1s 4ms/step - loss: 0.2926 - accuracy: 0.8964 - val_loss: 0.3454 - val_accuracy: 0.8760\n",
            "Epoch 18/25\n",
            "235/235 [==============================] - 1s 4ms/step - loss: 0.2888 - accuracy: 0.8968 - val_loss: 0.3502 - val_accuracy: 0.8774\n",
            "Epoch 19/25\n",
            "235/235 [==============================] - 1s 4ms/step - loss: 0.2802 - accuracy: 0.9003 - val_loss: 0.3551 - val_accuracy: 0.8788\n",
            "Epoch 20/25\n",
            "235/235 [==============================] - 1s 4ms/step - loss: 0.2759 - accuracy: 0.9011 - val_loss: 0.3467 - val_accuracy: 0.8764\n",
            "Epoch 21/25\n",
            "235/235 [==============================] - 1s 4ms/step - loss: 0.2691 - accuracy: 0.9040 - val_loss: 0.3447 - val_accuracy: 0.8774\n",
            "Epoch 22/25\n",
            "235/235 [==============================] - 1s 4ms/step - loss: 0.2657 - accuracy: 0.9051 - val_loss: 0.3503 - val_accuracy: 0.8830\n",
            "Epoch 23/25\n",
            "235/235 [==============================] - 1s 4ms/step - loss: 0.2606 - accuracy: 0.9078 - val_loss: 0.3409 - val_accuracy: 0.8826\n",
            "Epoch 24/25\n",
            "235/235 [==============================] - 1s 4ms/step - loss: 0.2581 - accuracy: 0.9072 - val_loss: 0.3391 - val_accuracy: 0.8806\n",
            "Epoch 25/25\n",
            "235/235 [==============================] - 1s 4ms/step - loss: 0.2529 - accuracy: 0.9100 - val_loss: 0.3521 - val_accuracy: 0.8798\n",
            "157/157 [==============================] - 0s 3ms/step - loss: 0.3357 - accuracy: 0.8856\n",
            "test accuracy:  0.8855999708175659\n"
          ]
        }
      ]
    },
    {
      "cell_type": "code",
      "metadata": {
        "colab": {
          "base_uri": "https://localhost:8080/",
          "height": 350
        },
        "id": "y5ZeNS7Db7Dy",
        "outputId": "91ed5d4a-1ed0-448e-fcea-f03aecb3b79a"
      },
      "source": [
        "plothistory(history)"
      ],
      "execution_count": null,
      "outputs": [
        {
          "data": {
            "image/png": "[encoded data removed]",
            "text/plain": [
              "<Figure size 864x360 with 2 Axes>"
            ]
          },
          "metadata": {},
          "output_type": "display_data"
        }
      ]
    },
    {
      "cell_type": "markdown",
      "metadata": {
        "id": "6EfweZmI3KaZ"
      },
      "source": [
        "This model managed to reach 88,55% accuracy on test data, which is worser than with the previous models, but the train accuracy and loss is closer to validation accuracy and loss. Until seven epochs the validaton accuracy and loss is better than train accuracy and loss."
      ]
    },
    {
      "cell_type": "markdown",
      "metadata": {
        "id": "T7hbiHcpHHs_"
      },
      "source": [
        "## Fourth model"
      ]
    },
    {
      "cell_type": "markdown",
      "metadata": {
        "id": "P5qVB1Mtse14"
      },
      "source": [
        "To increase accuracy I tried again to add more layers, so I added 4 additional hidden layers to the model: 1 more dropout and 3 dense layers. <br/>This time I used sigmoid activation function as well in one of the hidden layers, because I found that it improves the model's accuracy. <br/>  I changed the probability of the first dropout function to 0.5, the others to 0.4 because I found that it makes the model better.<br/>\n",
        "I realized that increasing the batch size to 256 imporves furher the accuracy of the model."
      ]
    },
    {
      "cell_type": "code",
      "metadata": {
        "colab": {
          "base_uri": "https://localhost:8080/"
        },
        "id": "DEIQueSOHH5b",
        "outputId": "0a1f10fe-7990-4ec1-eb66-7d1fd407242d"
      },
      "source": [
        "batch_size= 256\n",
        "es = EarlyStopping(monitor='val_loss', mode='min', verbose=1, patience=8)\n",
        "\n",
        "model = tf.keras.Sequential()\n",
        "model.add(tf.keras.layers.Dense(256, input_shape=(784,), activation='relu', kernel_initializer='he_uniform'))\n",
        "model.add(tf.keras.layers.Dense(256, activation='sigmoid'))\n",
        "model.add(tf.keras.layers.Dense(128, activation='relu'))\n",
        "model.add(tf.keras.layers.Dropout(0.5))\n",
        "model.add(tf.keras.layers.Dense(64, activation='relu'))\n",
        "model.add(tf.keras.layers.Dropout(0.4))\n",
        "model.add(tf.keras.layers.Dense(64, activation='relu'))\n",
        "model.add(tf.keras.layers.Dropout(0.4))\n",
        "model.add(tf.keras.layers.Dense(10, activation='softmax'))\n",
        "\n",
        "model.summary()\n",
        "sgd = tf.keras.optimizers.SGD(learning_rate=learning_rate, momentum=0.9)\n",
        "model.compile(optimizer=sgd, loss=\"sparse_categorical_crossentropy\", metrics=[\"accuracy\"])\n",
        "history = model.fit(\n",
        "    train_images, train_labels, \n",
        "    epochs=50, \n",
        "    batch_size = batch_size, \n",
        "    validation_data=(valid_images, valid_labels), \n",
        "    verbose = 1, \n",
        "    callbacks = [es, callback])\n",
        "\n",
        "test_loss, test_acc = model.evaluate(test_images, test_labels)\n",
        "print(\"test accuracy: \", test_acc)\n",
        "if test_acc > best:\n",
        "  best = test_acc\n",
        "  best_model = \"fourth\"\n",
        "  model.save('my_model.h5')"
      ],
      "execution_count": null,
      "outputs": [
        {
          "name": "stdout",
          "output_type": "stream",
          "text": [
            "Model: \"sequential_35\"\n",
            "_________________________________________________________________\n",
            "Layer (type)                 Output Shape              Param #   \n",
            "=================================================================\n",
            "dense_121 (Dense)            (None, 256)               200960    \n",
            "_________________________________________________________________\n",
            "dense_122 (Dense)            (None, 256)               65792     \n",
            "_________________________________________________________________\n",
            "dense_123 (Dense)            (None, 128)               32896     \n",
            "_________________________________________________________________\n",
            "dropout_50 (Dropout)         (None, 128)               0         \n",
            "_________________________________________________________________\n",
            "dense_124 (Dense)            (None, 64)                8256      \n",
            "_________________________________________________________________\n",
            "dropout_51 (Dropout)         (None, 64)                0         \n",
            "_________________________________________________________________\n",
            "dense_125 (Dense)            (None, 64)                4160      \n",
            "_________________________________________________________________\n",
            "dropout_52 (Dropout)         (None, 64)                0         \n",
            "_________________________________________________________________\n",
            "dense_126 (Dense)            (None, 10)                650       \n",
            "=================================================================\n",
            "Total params: 312,714\n",
            "Trainable params: 312,714\n",
            "Non-trainable params: 0\n",
            "_________________________________________________________________\n",
            "Epoch 1/50\n",
            "235/235 [==============================] - 2s 5ms/step - loss: 1.7255 - accuracy: 0.3347 - val_loss: 0.9137 - val_accuracy: 0.6470\n",
            "Epoch 2/50\n",
            "235/235 [==============================] - 1s 5ms/step - loss: 0.9410 - accuracy: 0.6273 - val_loss: 0.6430 - val_accuracy: 0.7396\n",
            "Epoch 3/50\n",
            "235/235 [==============================] - 1s 5ms/step - loss: 0.7582 - accuracy: 0.7164 - val_loss: 0.5954 - val_accuracy: 0.7664\n",
            "Epoch 4/50\n",
            "235/235 [==============================] - 1s 5ms/step - loss: 0.6763 - accuracy: 0.7543 - val_loss: 0.5281 - val_accuracy: 0.8012\n",
            "Epoch 5/50\n",
            "235/235 [==============================] - 1s 5ms/step - loss: 0.6093 - accuracy: 0.7842 - val_loss: 0.5085 - val_accuracy: 0.8168\n",
            "Epoch 6/50\n",
            "235/235 [==============================] - 1s 5ms/step - loss: 0.5577 - accuracy: 0.8069 - val_loss: 0.4789 - val_accuracy: 0.8184\n",
            "Epoch 7/50\n",
            "235/235 [==============================] - 1s 5ms/step - loss: 0.5245 - accuracy: 0.8213 - val_loss: 0.4414 - val_accuracy: 0.8516\n",
            "Epoch 8/50\n",
            "235/235 [==============================] - 1s 5ms/step - loss: 0.5003 - accuracy: 0.8295 - val_loss: 0.4455 - val_accuracy: 0.8462\n",
            "Epoch 9/50\n",
            "235/235 [==============================] - 1s 5ms/step - loss: 0.4753 - accuracy: 0.8411 - val_loss: 0.4284 - val_accuracy: 0.8538\n",
            "Epoch 10/50\n",
            "235/235 [==============================] - 1s 5ms/step - loss: 0.4506 - accuracy: 0.8506 - val_loss: 0.4067 - val_accuracy: 0.8620\n",
            "Epoch 11/50\n",
            "235/235 [==============================] - 1s 5ms/step - loss: 0.4316 - accuracy: 0.8543 - val_loss: 0.4049 - val_accuracy: 0.8636\n",
            "Epoch 12/50\n",
            "235/235 [==============================] - 1s 5ms/step - loss: 0.4127 - accuracy: 0.8616 - val_loss: 0.4566 - val_accuracy: 0.8432\n",
            "Epoch 13/50\n",
            "235/235 [==============================] - 1s 5ms/step - loss: 0.3957 - accuracy: 0.8682 - val_loss: 0.3753 - val_accuracy: 0.8656\n",
            "Epoch 14/50\n",
            "235/235 [==============================] - 1s 5ms/step - loss: 0.3849 - accuracy: 0.8722 - val_loss: 0.3945 - val_accuracy: 0.8666\n",
            "Epoch 15/50\n",
            "235/235 [==============================] - 1s 5ms/step - loss: 0.3722 - accuracy: 0.8750 - val_loss: 0.3804 - val_accuracy: 0.8700\n",
            "Epoch 16/50\n",
            "235/235 [==============================] - 1s 5ms/step - loss: 0.3647 - accuracy: 0.8776 - val_loss: 0.3865 - val_accuracy: 0.8672\n",
            "Epoch 17/50\n",
            "235/235 [==============================] - 1s 5ms/step - loss: 0.3543 - accuracy: 0.8824 - val_loss: 0.3758 - val_accuracy: 0.8738\n",
            "Epoch 18/50\n",
            "235/235 [==============================] - 1s 5ms/step - loss: 0.3456 - accuracy: 0.8839 - val_loss: 0.3669 - val_accuracy: 0.8756\n",
            "Epoch 19/50\n",
            "235/235 [==============================] - 1s 5ms/step - loss: 0.3363 - accuracy: 0.8863 - val_loss: 0.3725 - val_accuracy: 0.8714\n",
            "Epoch 20/50\n",
            "235/235 [==============================] - 1s 5ms/step - loss: 0.3315 - accuracy: 0.8889 - val_loss: 0.3722 - val_accuracy: 0.8764\n",
            "Epoch 21/50\n",
            "235/235 [==============================] - 1s 5ms/step - loss: 0.3233 - accuracy: 0.8924 - val_loss: 0.3658 - val_accuracy: 0.8744\n",
            "Epoch 22/50\n",
            "235/235 [==============================] - 1s 5ms/step - loss: 0.3198 - accuracy: 0.8932 - val_loss: 0.3772 - val_accuracy: 0.8720\n",
            "Epoch 23/50\n",
            "235/235 [==============================] - 1s 5ms/step - loss: 0.3112 - accuracy: 0.8938 - val_loss: 0.3676 - val_accuracy: 0.8754\n",
            "Epoch 24/50\n",
            "235/235 [==============================] - 1s 5ms/step - loss: 0.3058 - accuracy: 0.8963 - val_loss: 0.3666 - val_accuracy: 0.8800\n",
            "Epoch 25/50\n",
            "235/235 [==============================] - 1s 5ms/step - loss: 0.3032 - accuracy: 0.8977 - val_loss: 0.3708 - val_accuracy: 0.8778\n",
            "Epoch 26/50\n",
            "235/235 [==============================] - 1s 5ms/step - loss: 0.3001 - accuracy: 0.8999 - val_loss: 0.3693 - val_accuracy: 0.8762\n",
            "Epoch 27/50\n",
            "235/235 [==============================] - 1s 5ms/step - loss: 0.2975 - accuracy: 0.8992 - val_loss: 0.3622 - val_accuracy: 0.8750\n",
            "Epoch 28/50\n",
            "235/235 [==============================] - 1s 5ms/step - loss: 0.2912 - accuracy: 0.9006 - val_loss: 0.3658 - val_accuracy: 0.8768\n",
            "Epoch 29/50\n",
            "235/235 [==============================] - 1s 5ms/step - loss: 0.2877 - accuracy: 0.9027 - val_loss: 0.3675 - val_accuracy: 0.8762\n",
            "Epoch 30/50\n",
            "235/235 [==============================] - 1s 5ms/step - loss: 0.2871 - accuracy: 0.9031 - val_loss: 0.3681 - val_accuracy: 0.8766\n",
            "Epoch 31/50\n",
            "235/235 [==============================] - 1s 5ms/step - loss: 0.2861 - accuracy: 0.9036 - val_loss: 0.3691 - val_accuracy: 0.8772\n",
            "Epoch 32/50\n",
            "235/235 [==============================] - 1s 5ms/step - loss: 0.2809 - accuracy: 0.9052 - val_loss: 0.3670 - val_accuracy: 0.8790\n",
            "Epoch 33/50\n",
            "235/235 [==============================] - 1s 5ms/step - loss: 0.2788 - accuracy: 0.9060 - val_loss: 0.3672 - val_accuracy: 0.8798\n",
            "Epoch 34/50\n",
            "235/235 [==============================] - 1s 5ms/step - loss: 0.2736 - accuracy: 0.9067 - val_loss: 0.3711 - val_accuracy: 0.8796\n",
            "Epoch 35/50\n",
            "235/235 [==============================] - 1s 5ms/step - loss: 0.2751 - accuracy: 0.9073 - val_loss: 0.3700 - val_accuracy: 0.8782\n",
            "Epoch 00035: early stopping\n",
            "157/157 [==============================] - 0s 3ms/step - loss: 0.3506 - accuracy: 0.8880\n",
            "test accuracy:  0.8880000114440918\n"
          ]
        }
      ]
    },
    {
      "cell_type": "markdown",
      "metadata": {
        "id": "QhWBj75cxRKi"
      },
      "source": [
        "This model managed to achive 88,98% accuracy. <br>\n",
        "With SGD (stochastic gradient descent) optimizer and the layers added, I managed to decrease the gap between train and validation accuracy and loss furher. Until eleven epochs the validaton accuracy and loss is better than train accuracy and loss."
      ]
    },
    {
      "cell_type": "code",
      "metadata": {
        "colab": {
          "base_uri": "https://localhost:8080/",
          "height": 350
        },
        "id": "YMcaet64Gxyv",
        "outputId": "984e37d2-7705-4336-ae32-5bf061a370f0"
      },
      "source": [
        "plothistory(history)"
      ],
      "execution_count": null,
      "outputs": [
        {
          "data": {
            "image/png": "[encoded data removed]",
            "text/plain": [
              "<Figure size 864x360 with 2 Axes>"
            ]
          },
          "metadata": {},
          "output_type": "display_data"
        }
      ]
    },
    {
      "cell_type": "markdown",
      "metadata": {
        "id": "ML860eQsRjU6"
      },
      "source": [
        "## Checking for the best model"
      ]
    },
    {
      "cell_type": "code",
      "metadata": {
        "colab": {
          "base_uri": "https://localhost:8080/"
        },
        "id": "6ikQGJnfWjDC",
        "outputId": "23b1c169-a9d9-4b4d-d900-f963ed0cf72b"
      },
      "source": [
        "print('\\n Best test accuracy:', best)\n",
        "print(\"The best_model is the \" + best_model+ \" model.\")\n"
      ],
      "execution_count": null,
      "outputs": [
        {
          "name": "stdout",
          "output_type": "stream",
          "text": [
            "\n",
            " Best test accuracy: 0.8978000283241272\n",
            "The best_model is the second model.\n"
          ]
        }
      ]
    },
    {
      "cell_type": "markdown",
      "metadata": {
        "id": "49ruT8InLXF9"
      },
      "source": [
        "# Fifth model"
      ]
    },
    {
      "cell_type": "markdown",
      "metadata": {
        "id": "jvm4fyKQLJIf"
      },
      "source": [
        "I found that the second model has the highest accuracy, so I will try to improve that model further, by changing activation functions, batch size and dropout rate."
      ]
    },
    {
      "cell_type": "code",
      "metadata": {
        "colab": {
          "base_uri": "https://localhost:8080/"
        },
        "id": "23Op_gv6Llnf",
        "outputId": "931ae5d8-855e-4cd9-c675-c07330d2b9f7"
      },
      "source": [
        "batch = 64\n",
        "model = tf.keras.Sequential()\n",
        "model.add(tf.keras.layers.Dense(256, input_shape=(784,), activation='relu', kernel_initializer='he_uniform'))\n",
        "model.add(tf.keras.layers.Dense(256, activation='sigmoid'))\n",
        "model.add(tf.keras.layers.Dense(128, activation='elu'))\n",
        "model.add(tf.keras.layers.Dropout(0.6))\n",
        "model.add(tf.keras.layers.Dense(64, activation='elu'))\n",
        "model.add(tf.keras.layers.Dropout(0.3))\n",
        "model.add(tf.keras.layers.Dense(64, activation='elu'))\n",
        "model.add(tf.keras.layers.Dropout(0.2))\n",
        "model.add(tf.keras.layers.Dense(10, activation='softmax'))\n",
        "\n",
        "es = EarlyStopping(monitor='val_loss', mode='min', verbose=1, patience=5)\n",
        "\n",
        "model.summary()\n",
        "model.compile(optimizer=\"adam\", loss=\"sparse_categorical_crossentropy\", metrics=[\"accuracy\"])\n",
        "history = model.fit(\n",
        "    train_images, train_labels, \n",
        "    epochs=30, \n",
        "    batch_size = batch_size, \n",
        "    validation_data=(valid_images, valid_labels), \n",
        "    verbose = 1, \n",
        "    callbacks = [es])\n",
        "\n",
        "test_loss, test_acc = model.evaluate(test_images, test_labels)\n",
        "print(\"test accuracy: \", test_acc)\n",
        "\n",
        "if test_acc > best:\n",
        "  best = test_acc\n",
        "  best_model = \"fifth\"\n",
        "  model.save('my_model.h5')"
      ],
      "execution_count": null,
      "outputs": [
        {
          "name": "stdout",
          "output_type": "stream",
          "text": [
            "Model: \"sequential_36\"\n",
            "_________________________________________________________________\n",
            "Layer (type)                 Output Shape              Param #   \n",
            "=================================================================\n",
            "dense_127 (Dense)            (None, 256)               200960    \n",
            "_________________________________________________________________\n",
            "dense_128 (Dense)            (None, 256)               65792     \n",
            "_________________________________________________________________\n",
            "dense_129 (Dense)            (None, 128)               32896     \n",
            "_________________________________________________________________\n",
            "dropout_53 (Dropout)         (None, 128)               0         \n",
            "_________________________________________________________________\n",
            "dense_130 (Dense)            (None, 64)                8256      \n",
            "_________________________________________________________________\n",
            "dropout_54 (Dropout)         (None, 64)                0         \n",
            "_________________________________________________________________\n",
            "dense_131 (Dense)            (None, 64)                4160      \n",
            "_________________________________________________________________\n",
            "dropout_55 (Dropout)         (None, 64)                0         \n",
            "_________________________________________________________________\n",
            "dense_132 (Dense)            (None, 10)                650       \n",
            "=================================================================\n",
            "Total params: 312,714\n",
            "Trainable params: 312,714\n",
            "Non-trainable params: 0\n",
            "_________________________________________________________________\n",
            "Epoch 1/30\n",
            "235/235 [==============================] - 2s 6ms/step - loss: 0.7890 - accuracy: 0.7157 - val_loss: 0.5165 - val_accuracy: 0.8098\n",
            "Epoch 2/30\n",
            "235/235 [==============================] - 1s 5ms/step - loss: 0.4797 - accuracy: 0.8333 - val_loss: 0.4505 - val_accuracy: 0.8406\n",
            "Epoch 3/30\n",
            "235/235 [==============================] - 1s 5ms/step - loss: 0.4199 - accuracy: 0.8544 - val_loss: 0.4002 - val_accuracy: 0.8584\n",
            "Epoch 4/30\n",
            "235/235 [==============================] - 1s 5ms/step - loss: 0.3809 - accuracy: 0.8677 - val_loss: 0.3733 - val_accuracy: 0.8680\n",
            "Epoch 5/30\n",
            "235/235 [==============================] - 1s 5ms/step - loss: 0.3538 - accuracy: 0.8759 - val_loss: 0.3721 - val_accuracy: 0.8704\n",
            "Epoch 6/30\n",
            "235/235 [==============================] - 1s 5ms/step - loss: 0.3312 - accuracy: 0.8816 - val_loss: 0.3664 - val_accuracy: 0.8676\n",
            "Epoch 7/30\n",
            "235/235 [==============================] - 1s 5ms/step - loss: 0.3167 - accuracy: 0.8880 - val_loss: 0.3581 - val_accuracy: 0.8714\n",
            "Epoch 8/30\n",
            "235/235 [==============================] - 1s 5ms/step - loss: 0.3045 - accuracy: 0.8923 - val_loss: 0.3474 - val_accuracy: 0.8768\n",
            "Epoch 9/30\n",
            "235/235 [==============================] - 1s 5ms/step - loss: 0.2916 - accuracy: 0.8968 - val_loss: 0.3435 - val_accuracy: 0.8750\n",
            "Epoch 10/30\n",
            "235/235 [==============================] - 1s 5ms/step - loss: 0.2824 - accuracy: 0.8991 - val_loss: 0.3557 - val_accuracy: 0.8796\n",
            "Epoch 11/30\n",
            "235/235 [==============================] - 1s 5ms/step - loss: 0.2730 - accuracy: 0.9037 - val_loss: 0.3494 - val_accuracy: 0.8776\n",
            "Epoch 12/30\n",
            "235/235 [==============================] - 1s 5ms/step - loss: 0.2611 - accuracy: 0.9061 - val_loss: 0.3470 - val_accuracy: 0.8810\n",
            "Epoch 13/30\n",
            "235/235 [==============================] - 1s 5ms/step - loss: 0.2513 - accuracy: 0.9093 - val_loss: 0.3366 - val_accuracy: 0.8846\n",
            "Epoch 14/30\n",
            "235/235 [==============================] - 1s 5ms/step - loss: 0.2481 - accuracy: 0.9112 - val_loss: 0.3490 - val_accuracy: 0.8822\n",
            "Epoch 15/30\n",
            "235/235 [==============================] - 1s 5ms/step - loss: 0.2380 - accuracy: 0.9137 - val_loss: 0.3441 - val_accuracy: 0.8824\n",
            "Epoch 16/30\n",
            "235/235 [==============================] - 1s 5ms/step - loss: 0.2283 - accuracy: 0.9181 - val_loss: 0.3431 - val_accuracy: 0.8810\n",
            "Epoch 17/30\n",
            "235/235 [==============================] - 1s 5ms/step - loss: 0.2289 - accuracy: 0.9187 - val_loss: 0.3582 - val_accuracy: 0.8840\n",
            "Epoch 18/30\n",
            "235/235 [==============================] - 1s 5ms/step - loss: 0.2217 - accuracy: 0.9201 - val_loss: 0.3400 - val_accuracy: 0.8880\n",
            "Epoch 00018: early stopping\n",
            "157/157 [==============================] - 0s 3ms/step - loss: 0.3157 - accuracy: 0.8958\n",
            "test accuracy:  0.895799994468689\n"
          ]
        }
      ]
    },
    {
      "cell_type": "markdown",
      "metadata": {
        "id": "Fvb3N4tmjAke"
      },
      "source": [
        "With elu and selu activation I did not managed to imporve the model accuracy, with selu it was around 88-89%, with elu it was almost as good as with relu.\n",
        "I tried to add other layers and change batch size and dropout ratio, but it did not improved the accuracy of the model.  \n",
        "**To achive higher accuracy convolutional neural network** model should be used."
      ]
    },
    {
      "cell_type": "code",
      "metadata": {
        "colab": {
          "base_uri": "https://localhost:8080/"
        },
        "id": "iO9AfIF1Rq8f",
        "outputId": "d21bb8b2-2992-4d7e-b05c-39b2a8dbf18f"
      },
      "source": [
        "print('\\n Best test accuracy:', best)\n",
        "print(\"The best_model is the \" + best_model+ \" model.\")"
      ],
      "execution_count": null,
      "outputs": [
        {
          "name": "stdout",
          "output_type": "stream",
          "text": [
            "\n",
            " Best test accuracy: 0.8978000283241272\n",
            "The best_model is the second model.\n"
          ]
        }
      ]
    },
    {
      "cell_type": "markdown",
      "metadata": {
        "id": "IJh4KLe9LcLQ"
      },
      "source": [
        "## Loading the best model for testing predictions"
      ]
    },
    {
      "cell_type": "code",
      "metadata": {
        "id": "xGLui08aYgx2"
      },
      "source": [
        "new_model = tf.keras.models.load_model('my_model.h5')\n",
        "\n",
        "predictions = new_model.predict(test_images)"
      ],
      "execution_count": null,
      "outputs": []
    },
    {
      "cell_type": "code",
      "metadata": {
        "colab": {
          "base_uri": "https://localhost:8080/"
        },
        "id": "YoQ62V42GfLl",
        "outputId": "ab10e2be-7db2-4bf5-a516-f16f2e11cb9d"
      },
      "source": [
        "test_images.shape"
      ],
      "execution_count": null,
      "outputs": [
        {
          "data": {
            "text/plain": [
              "(5000, 784)"
            ]
          },
          "execution_count": 79,
          "metadata": {},
          "output_type": "execute_result"
        }
      ]
    },
    {
      "cell_type": "markdown",
      "metadata": {
        "id": "Q_oxmYBfJvJx"
      },
      "source": [
        "## Adding figures to show predictions and actual labels"
      ]
    },
    {
      "cell_type": "code",
      "metadata": {
        "colab": {
          "base_uri": "https://localhost:8080/",
          "height": 2743
        },
        "id": "j3HfLtCiWwR_",
        "outputId": "114aec43-f510-41b0-82bf-e74da8500179"
      },
      "source": [
        "class_names = ['T-shirt/top', 'Trouser', 'Pullover', 'Dress', 'Coat',\n",
        "               'Sandal', 'Shirt', 'Sneaker', 'Bag', 'Ankle boot']\n",
        "test_images = test_images.reshape([5000,28,28])\n",
        "\n",
        "plt.figure(figsize=(3,3))\n",
        "for i in range(10):\n",
        "    plt.grid(False)\n",
        "    plt.imshow(test_images[i], cmap=plt.cm.binary)\n",
        "    plt.xlabel(class_names[test_labels[i]])\n",
        "    plt.title(class_names[np.argmax(predictions[i])])\n",
        "    plt.show()"
      ],
      "execution_count": null,
      "outputs": [
        {
          "output_type": "display_data",
          "data": {
            "image/png": "[encoded data removed]",
            "text/plain": [
              "<Figure size 216x216 with 1 Axes>"
            ]
          },
          "metadata": {
            "needs_background": "light"
          }
        },
        {
          "output_type": "display_data",
          "data": {
            "image/png": "[encoded data removed]",
            "text/plain": [
              "<Figure size 432x288 with 1 Axes>"
            ]
          },
          "metadata": {
            "needs_background": "light"
          }
        },
        {
          "output_type": "display_data",
          "data": {
            "image/png": "[encoded data removed]",
            "text/plain": [
              "<Figure size 432x288 with 1 Axes>"
            ]
          },
          "metadata": {
            "needs_background": "light"
          }
        },
        {
          "output_type": "display_data",
          "data": {
            "image/png": "[encoded data removed]",
            "text/plain": [
              "<Figure size 432x288 with 1 Axes>"
            ]
          },
          "metadata": {
            "needs_background": "light"
          }
        },
        {
          "output_type": "display_data",
          "data": {
            "image/png": "[encoded data removed]",
            "text/plain": [
              "<Figure size 432x288 with 1 Axes>"
            ]
          },
          "metadata": {
            "needs_background": "light"
          }
        },
        {
          "output_type": "display_data",
          "data": {
            "image/png": "[encoded data removed]",
            "text/plain": [
              "<Figure size 432x288 with 1 Axes>"
            ]
          },
          "metadata": {
            "needs_background": "light"
          }
        },
        {
          "output_type": "display_data",
          "data": {
            "image/png": "[encoded data removed]",
            "text/plain": [
              "<Figure size 432x288 with 1 Axes>"
            ]
          },
          "metadata": {
            "needs_background": "light"
          }
        },
        {
          "output_type": "display_data",
          "data": {
            "image/png": "[encoded data removed]",
            "text/plain": [
              "<Figure size 432x288 with 1 Axes>"
            ]
          },
          "metadata": {
            "needs_background": "light"
          }
        },
        {
          "output_type": "display_data",
          "data": {
            "image/png": "[encoded data removed]",
            "text/plain": [
              "<Figure size 432x288 with 1 Axes>"
            ]
          },
          "metadata": {
            "needs_background": "light"
          }
        },
        {
          "output_type": "display_data",
          "data": {
            "image/png": "[encoded data removed]",
            "text/plain": [
              "<Figure size 432x288 with 1 Axes>"
            ]
          },
          "metadata": {
            "needs_background": "light"
          }
        }
      ]
    },
    {
      "cell_type": "markdown",
      "metadata": {
        "id": "KgvlZS5-KBBL"
      },
      "source": [
        "# Image prediction with Gradio"
      ]
    },
    {
      "cell_type": "code",
      "metadata": {
        "colab": {
          "base_uri": "https://localhost:8080/"
        },
        "id": "DoR5Zj0Z_TRH",
        "outputId": "f36e17ca-af68-449e-d1be-b6cba1770499"
      },
      "source": [
        "pip install gradio"
      ],
      "execution_count": null,
      "outputs": [
        {
          "output_type": "stream",
          "text": [
            "Collecting gradio\n",
            "  Downloading gradio-2.2.13-py3-none-any.whl (3.4 MB)\n",
            "\u001b[K     |████████████████████████████████| 3.4 MB 8.7 MB/s \n",
            "\u001b[?25hRequirement already satisfied: Flask>=1.1.1 in /usr/local/lib/python3.7/dist-packages (from gradio) (1.1.4)\n",
            "Requirement already satisfied: pillow in /usr/local/lib/python3.7/dist-packages (from gradio) (7.1.2)\n",
            "Requirement already satisfied: numpy in /usr/local/lib/python3.7/dist-packages (from gradio) (1.19.5)\n",
            "Requirement already satisfied: requests in /usr/local/lib/python3.7/dist-packages (from gradio) (2.23.0)\n",
            "Collecting Flask-Cors>=3.0.8\n",
            "  Downloading Flask_Cors-3.0.10-py2.py3-none-any.whl (14 kB)\n",
            "Collecting analytics-python\n",
            "  Downloading analytics_python-1.4.0-py2.py3-none-any.whl (15 kB)\n",
            "Requirement already satisfied: matplotlib in /usr/local/lib/python3.7/dist-packages (from gradio) (3.2.2)\n",
            "Collecting paramiko\n",
            "  Downloading paramiko-2.7.2-py2.py3-none-any.whl (206 kB)\n",
            "\u001b[K     |████████████████████████████████| 206 kB 71.2 MB/s \n",
            "\u001b[?25hCollecting ffmpy\n",
            "  Downloading ffmpy-0.3.0.tar.gz (4.8 kB)\n",
            "Collecting markdown2\n",
            "  Downloading markdown2-2.4.1-py2.py3-none-any.whl (34 kB)\n",
            "Requirement already satisfied: pandas in /usr/local/lib/python3.7/dist-packages (from gradio) (1.1.5)\n",
            "Collecting pycryptodome\n",
            "  Downloading pycryptodome-3.10.1-cp35-abi3-manylinux2010_x86_64.whl (1.9 MB)\n",
            "\u001b[K     |████████████████████████████████| 1.9 MB 58.4 MB/s \n",
            "\u001b[?25hRequirement already satisfied: scipy in /usr/local/lib/python3.7/dist-packages (from gradio) (1.4.1)\n",
            "Collecting flask-cachebuster\n",
            "  Downloading Flask-CacheBuster-1.0.0.tar.gz (3.1 kB)\n",
            "Collecting Flask-Login\n",
            "  Downloading Flask_Login-0.5.0-py2.py3-none-any.whl (16 kB)\n",
            "Requirement already satisfied: Werkzeug<2.0,>=0.15 in /usr/local/lib/python3.7/dist-packages (from Flask>=1.1.1->gradio) (1.0.1)\n",
            "Requirement already satisfied: itsdangerous<2.0,>=0.24 in /usr/local/lib/python3.7/dist-packages (from Flask>=1.1.1->gradio) (1.1.0)\n",
            "Requirement already satisfied: click<8.0,>=5.1 in /usr/local/lib/python3.7/dist-packages (from Flask>=1.1.1->gradio) (7.1.2)\n",
            "Requirement already satisfied: Jinja2<3.0,>=2.10.1 in /usr/local/lib/python3.7/dist-packages (from Flask>=1.1.1->gradio) (2.11.3)\n",
            "Requirement already satisfied: Six in /usr/local/lib/python3.7/dist-packages (from Flask-Cors>=3.0.8->gradio) (1.15.0)\n",
            "Requirement already satisfied: MarkupSafe>=0.23 in /usr/local/lib/python3.7/dist-packages (from Jinja2<3.0,>=2.10.1->Flask>=1.1.1->gradio) (2.0.1)\n",
            "Collecting monotonic>=1.5\n",
            "  Downloading monotonic-1.6-py2.py3-none-any.whl (8.2 kB)\n",
            "Requirement already satisfied: python-dateutil>2.1 in /usr/local/lib/python3.7/dist-packages (from analytics-python->gradio) (2.8.2)\n",
            "Collecting backoff==1.10.0\n",
            "  Downloading backoff-1.10.0-py2.py3-none-any.whl (31 kB)\n",
            "Requirement already satisfied: idna<3,>=2.5 in /usr/local/lib/python3.7/dist-packages (from requests->gradio) (2.10)\n",
            "Requirement already satisfied: chardet<4,>=3.0.2 in /usr/local/lib/python3.7/dist-packages (from requests->gradio) (3.0.4)\n",
            "Requirement already satisfied: urllib3!=1.25.0,!=1.25.1,<1.26,>=1.21.1 in /usr/local/lib/python3.7/dist-packages (from requests->gradio) (1.24.3)\n",
            "Requirement already satisfied: certifi>=2017.4.17 in /usr/local/lib/python3.7/dist-packages (from requests->gradio) (2021.5.30)\n",
            "Requirement already satisfied: kiwisolver>=1.0.1 in /usr/local/lib/python3.7/dist-packages (from matplotlib->gradio) (1.3.1)\n",
            "Requirement already satisfied: pyparsing!=2.0.4,!=2.1.2,!=2.1.6,>=2.0.1 in /usr/local/lib/python3.7/dist-packages (from matplotlib->gradio) (2.4.7)\n",
            "Requirement already satisfied: cycler>=0.10 in /usr/local/lib/python3.7/dist-packages (from matplotlib->gradio) (0.10.0)\n",
            "Requirement already satisfied: pytz>=2017.2 in /usr/local/lib/python3.7/dist-packages (from pandas->gradio) (2018.9)\n",
            "Collecting cryptography>=2.5\n",
            "  Downloading cryptography-3.4.7-cp36-abi3-manylinux2014_x86_64.whl (3.2 MB)\n",
            "\u001b[K     |████████████████████████████████| 3.2 MB 46.2 MB/s \n",
            "\u001b[?25hCollecting bcrypt>=3.1.3\n",
            "  Downloading bcrypt-3.2.0-cp36-abi3-manylinux2010_x86_64.whl (63 kB)\n",
            "\u001b[K     |████████████████████████████████| 63 kB 2.9 MB/s \n",
            "\u001b[?25hCollecting pynacl>=1.0.1\n",
            "  Downloading PyNaCl-1.4.0-cp35-abi3-manylinux1_x86_64.whl (961 kB)\n",
            "\u001b[K     |████████████████████████████████| 961 kB 42.5 MB/s \n",
            "\u001b[?25hRequirement already satisfied: cffi>=1.1 in /usr/local/lib/python3.7/dist-packages (from bcrypt>=3.1.3->paramiko->gradio) (1.14.6)\n",
            "Requirement already satisfied: pycparser in /usr/local/lib/python3.7/dist-packages (from cffi>=1.1->bcrypt>=3.1.3->paramiko->gradio) (2.20)\n",
            "Building wheels for collected packages: ffmpy, flask-cachebuster\n",
            "  Building wheel for ffmpy (setup.py) ... \u001b[?25l\u001b[?25hdone\n",
            "  Created wheel for ffmpy: filename=ffmpy-0.3.0-py3-none-any.whl size=4710 sha256=46d19295647b2f74650bfd9fc40e6e8ad881f9ce6880bfa1c64bd3106b380aed\n",
            "  Stored in directory: /root/.cache/pip/wheels/13/e4/6c/e8059816e86796a597c6e6b0d4c880630f51a1fcfa0befd5e6\n",
            "  Building wheel for flask-cachebuster (setup.py) ... \u001b[?25l\u001b[?25hdone\n",
            "  Created wheel for flask-cachebuster: filename=Flask_CacheBuster-1.0.0-py3-none-any.whl size=3371 sha256=6559681eb49c0e537ec745f418a7d064f8e90b87107dad332383607f36493ef8\n",
            "  Stored in directory: /root/.cache/pip/wheels/28/c0/c4/44687421dab41455be93112bd1b0dee1f3c5a9aa27bee63708\n",
            "Successfully built ffmpy flask-cachebuster\n",
            "Installing collected packages: pynacl, monotonic, cryptography, bcrypt, backoff, pycryptodome, paramiko, markdown2, Flask-Login, Flask-Cors, flask-cachebuster, ffmpy, analytics-python, gradio\n",
            "Successfully installed Flask-Cors-3.0.10 Flask-Login-0.5.0 analytics-python-1.4.0 backoff-1.10.0 bcrypt-3.2.0 cryptography-3.4.7 ffmpy-0.3.0 flask-cachebuster-1.0.0 gradio-2.2.13 markdown2-2.4.1 monotonic-1.6 paramiko-2.7.2 pycryptodome-3.10.1 pynacl-1.4.0\n"
          ],
          "name": "stdout"
        }
      ]
    },
    {
      "cell_type": "code",
      "metadata": {
        "id": "s40Q6w3b7xpI"
      },
      "source": [
        "import gradio as gr"
      ],
      "execution_count": null,
      "outputs": []
    },
    {
      "cell_type": "code",
      "metadata": {
        "id": "gZ2ngZP9JAPS"
      },
      "source": [
        "new_model = tf.keras.models.load_model('my_model.h5')"
      ],
      "execution_count": null,
      "outputs": []
    },
    {
      "cell_type": "code",
      "metadata": {
        "id": "OwW5QILa8uQm"
      },
      "source": [
        "def recognize_image(image):\n",
        "    rgb_weights = [0.2989, 0.5870, 0.1140]\n",
        "    img = image / 255\n",
        "    img = np.mean(img, axis=2)\n",
        "    img = img.reshape(1,784)\n",
        "    prediction = new_model.predict(img).tolist()[0]\n",
        "    return class_names[np.argmax(prediction)]\n",
        "    "
      ],
      "execution_count": null,
      "outputs": []
    },
    {
      "cell_type": "code",
      "metadata": {
        "colab": {
          "base_uri": "https://localhost:8080/",
          "height": 609
        },
        "id": "UvFH0e_z83M_",
        "outputId": "e3f2c1b1-851e-4508-c264-53ce849bfcda"
      },
      "source": [
        "iface = gr.Interface(\n",
        "    recognize_image, \n",
        "    gr.inputs.Image(shape=(28, 28)), \n",
        "    outputs=\"text\",\n",
        "    capture_session=True,\n",
        "    interpretation=\"default\",)\n",
        "iface.launch(debug=True)"
      ],
      "execution_count": null,
      "outputs": [
        {
          "output_type": "stream",
          "text": [
            "Colab notebook detected. This cell will run indefinitely so that you can see errors and logs. To turn off, set debug=False in launch().\n",
            "This share link will expire in 24 hours. If you need a permanent link, visit: https://gradio.app/introducing-hosted (NEW!)\n",
            "Running on External URL: https://59490.gradio.app\n",
            "Interface loading below...\n"
          ],
          "name": "stdout"
        },
        {
          "output_type": "display_data",
          "data": {
            "text/html": [
              "\n",
              "        <iframe\n",
              "            width=\"900\"\n",
              "            height=\"500\"\n",
              "            src=\"https://59490.gradio.app\"\n",
              "            frameborder=\"0\"\n",
              "            allowfullscreen\n",
              "        ></iframe>\n",
              "        "
            ],
            "text/plain": [
              "<IPython.lib.display.IFrame at 0x7f261d79ca10>"
            ]
          },
          "metadata": {}
        }
      ]
    }
  ]
}